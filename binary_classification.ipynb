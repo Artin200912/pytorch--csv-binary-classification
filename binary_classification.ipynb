{
  "cells": [
    {
      "cell_type": "code",
      "execution_count": 129,
      "metadata": {
        "colab": {
          "base_uri": "https://localhost:8080/"
        },
        "id": "Xg5MYxlMk2z4",
        "outputId": "54aeb88f-84ef-4188-9005-a6639bc70872"
      },
      "outputs": [
        {
          "name": "stdout",
          "output_type": "stream",
          "text": [
            "Thu May 16 09:45:32 2024       \n",
            "+---------------------------------------------------------------------------------------+\n",
            "| NVIDIA-SMI 535.104.05             Driver Version: 535.104.05   CUDA Version: 12.2     |\n",
            "|-----------------------------------------+----------------------+----------------------+\n",
            "| GPU  Name                 Persistence-M | Bus-Id        Disp.A | Volatile Uncorr. ECC |\n",
            "| Fan  Temp   Perf          Pwr:Usage/Cap |         Memory-Usage | GPU-Util  Compute M. |\n",
            "|                                         |                      |               MIG M. |\n",
            "|=========================================+======================+======================|\n",
            "|   0  Tesla T4                       Off | 00000000:00:04.0 Off |                    0 |\n",
            "| N/A   74C    P0              34W /  70W |    161MiB / 15360MiB |      0%      Default |\n",
            "|                                         |                      |                  N/A |\n",
            "+-----------------------------------------+----------------------+----------------------+\n",
            "                                                                                         \n",
            "+---------------------------------------------------------------------------------------+\n",
            "| Processes:                                                                            |\n",
            "|  GPU   GI   CI        PID   Type   Process name                            GPU Memory |\n",
            "|        ID   ID                                                             Usage      |\n",
            "|=======================================================================================|\n",
            "+---------------------------------------------------------------------------------------+\n"
          ]
        }
      ],
      "source": [
        "!nvidia-smi"
      ]
    },
    {
      "cell_type": "markdown",
      "metadata": {
        "id": "fQFlVvECeZsD"
      },
      "source": [
        "# **Section 0: Imports and Install📢**\n",
        "\n",
        "\n"
      ]
    },
    {
      "cell_type": "code",
      "execution_count": 130,
      "metadata": {
        "colab": {
          "base_uri": "https://localhost:8080/"
        },
        "id": "vyAOB8yGT-iV",
        "outputId": "bffa9c79-4ecf-4b36-a6ce-dbc44caa08cd"
      },
      "outputs": [
        {
          "name": "stdout",
          "output_type": "stream",
          "text": [
            "Requirement already satisfied: torchmetrics in /usr/local/lib/python3.10/dist-packages (1.4.0.post0)\n",
            "Requirement already satisfied: numpy>1.20.0 in /usr/local/lib/python3.10/dist-packages (from torchmetrics) (1.25.2)\n",
            "Requirement already satisfied: packaging>17.1 in /usr/local/lib/python3.10/dist-packages (from torchmetrics) (24.0)\n",
            "Requirement already satisfied: torch>=1.10.0 in /usr/local/lib/python3.10/dist-packages (from torchmetrics) (2.2.1+cu121)\n",
            "Requirement already satisfied: lightning-utilities>=0.8.0 in /usr/local/lib/python3.10/dist-packages (from torchmetrics) (0.11.2)\n",
            "Requirement already satisfied: setuptools in /usr/local/lib/python3.10/dist-packages (from lightning-utilities>=0.8.0->torchmetrics) (67.7.2)\n",
            "Requirement already satisfied: typing-extensions in /usr/local/lib/python3.10/dist-packages (from lightning-utilities>=0.8.0->torchmetrics) (4.11.0)\n",
            "Requirement already satisfied: filelock in /usr/local/lib/python3.10/dist-packages (from torch>=1.10.0->torchmetrics) (3.14.0)\n",
            "Requirement already satisfied: sympy in /usr/local/lib/python3.10/dist-packages (from torch>=1.10.0->torchmetrics) (1.12)\n",
            "Requirement already satisfied: networkx in /usr/local/lib/python3.10/dist-packages (from torch>=1.10.0->torchmetrics) (3.3)\n",
            "Requirement already satisfied: jinja2 in /usr/local/lib/python3.10/dist-packages (from torch>=1.10.0->torchmetrics) (3.1.4)\n",
            "Requirement already satisfied: fsspec in /usr/local/lib/python3.10/dist-packages (from torch>=1.10.0->torchmetrics) (2023.6.0)\n",
            "Requirement already satisfied: nvidia-cuda-nvrtc-cu12==12.1.105 in /usr/local/lib/python3.10/dist-packages (from torch>=1.10.0->torchmetrics) (12.1.105)\n",
            "Requirement already satisfied: nvidia-cuda-runtime-cu12==12.1.105 in /usr/local/lib/python3.10/dist-packages (from torch>=1.10.0->torchmetrics) (12.1.105)\n",
            "Requirement already satisfied: nvidia-cuda-cupti-cu12==12.1.105 in /usr/local/lib/python3.10/dist-packages (from torch>=1.10.0->torchmetrics) (12.1.105)\n",
            "Requirement already satisfied: nvidia-cudnn-cu12==8.9.2.26 in /usr/local/lib/python3.10/dist-packages (from torch>=1.10.0->torchmetrics) (8.9.2.26)\n",
            "Requirement already satisfied: nvidia-cublas-cu12==12.1.3.1 in /usr/local/lib/python3.10/dist-packages (from torch>=1.10.0->torchmetrics) (12.1.3.1)\n",
            "Requirement already satisfied: nvidia-cufft-cu12==11.0.2.54 in /usr/local/lib/python3.10/dist-packages (from torch>=1.10.0->torchmetrics) (11.0.2.54)\n",
            "Requirement already satisfied: nvidia-curand-cu12==10.3.2.106 in /usr/local/lib/python3.10/dist-packages (from torch>=1.10.0->torchmetrics) (10.3.2.106)\n",
            "Requirement already satisfied: nvidia-cusolver-cu12==11.4.5.107 in /usr/local/lib/python3.10/dist-packages (from torch>=1.10.0->torchmetrics) (11.4.5.107)\n",
            "Requirement already satisfied: nvidia-cusparse-cu12==12.1.0.106 in /usr/local/lib/python3.10/dist-packages (from torch>=1.10.0->torchmetrics) (12.1.0.106)\n",
            "Requirement already satisfied: nvidia-nccl-cu12==2.19.3 in /usr/local/lib/python3.10/dist-packages (from torch>=1.10.0->torchmetrics) (2.19.3)\n",
            "Requirement already satisfied: nvidia-nvtx-cu12==12.1.105 in /usr/local/lib/python3.10/dist-packages (from torch>=1.10.0->torchmetrics) (12.1.105)\n",
            "Requirement already satisfied: triton==2.2.0 in /usr/local/lib/python3.10/dist-packages (from torch>=1.10.0->torchmetrics) (2.2.0)\n",
            "Requirement already satisfied: nvidia-nvjitlink-cu12 in /usr/local/lib/python3.10/dist-packages (from nvidia-cusolver-cu12==11.4.5.107->torch>=1.10.0->torchmetrics) (12.4.127)\n",
            "Requirement already satisfied: MarkupSafe>=2.0 in /usr/local/lib/python3.10/dist-packages (from jinja2->torch>=1.10.0->torchmetrics) (2.1.5)\n",
            "Requirement already satisfied: mpmath>=0.19 in /usr/local/lib/python3.10/dist-packages (from sympy->torch>=1.10.0->torchmetrics) (1.3.0)\n"
          ]
        }
      ],
      "source": [
        "!pip install torchmetrics"
      ]
    },
    {
      "cell_type": "code",
      "execution_count": 131,
      "metadata": {
        "id": "Jnc2LOc9eRjD"
      },
      "outputs": [],
      "source": [
        "import torch\n",
        "import torch.nn as nn\n",
        "import torch.optim as optim\n",
        "from torch.utils.data import TensorDataset, DataLoader\n",
        "\n",
        "import matplotlib.pyplot as plt\n",
        "from sklearn.model_selection import train_test_split\n",
        "import pandas as pd\n",
        "from torchmetrics.classification import BinaryAccuracy\n",
        "import time"
      ]
    },
    {
      "cell_type": "markdown",
      "metadata": {
        "id": "OsNaqujTeiGx"
      },
      "source": [
        "# **Section 1: Load Dataset📑**"
      ]
    },
    {
      "cell_type": "markdown",
      "metadata": {
        "id": "vphwvSkRI_Yz"
      },
      "source": [
        "## 1-1: Read Dataset"
      ]
    },
    {
      "cell_type": "code",
      "execution_count": 195,
      "metadata": {
        "colab": {
          "base_uri": "https://localhost:8080/",
          "height": 206
        },
        "id": "kb2vsZK8uYOv",
        "outputId": "eb74de0c-cbd9-4b1b-deac-fc8ff56fef51"
      },
      "outputs": [
        {
          "data": {
            "application/vnd.google.colaboratory.intrinsic+json": {
              "summary": "{\n  \"name\": \"df\",\n  \"rows\": 249,\n  \"fields\": [\n    {\n      \"column\": \"age\",\n      \"properties\": {\n        \"dtype\": \"number\",\n        \"std\": 11.539249015998369,\n        \"min\": 40.0,\n        \"max\": 95.0,\n        \"num_unique_values\": 46,\n        \"samples\": [\n          60.667,\n          79.0,\n          44.0\n        ],\n        \"semantic_type\": \"\",\n        \"description\": \"\"\n      }\n    },\n    {\n      \"column\": \"anaemia\",\n      \"properties\": {\n        \"dtype\": \"number\",\n        \"std\": 0,\n        \"min\": 0,\n        \"max\": 1,\n        \"num_unique_values\": 2,\n        \"samples\": [\n          1,\n          0\n        ],\n        \"semantic_type\": \"\",\n        \"description\": \"\"\n      }\n    },\n    {\n      \"column\": \"creatinine_phosphokinase\",\n      \"properties\": {\n        \"dtype\": \"number\",\n        \"std\": 927,\n        \"min\": 30,\n        \"max\": 7861,\n        \"num_unique_values\": 177,\n        \"samples\": [\n          122,\n          250\n        ],\n        \"semantic_type\": \"\",\n        \"description\": \"\"\n      }\n    },\n    {\n      \"column\": \"diabetes\",\n      \"properties\": {\n        \"dtype\": \"number\",\n        \"std\": 0,\n        \"min\": 0,\n        \"max\": 1,\n        \"num_unique_values\": 2,\n        \"samples\": [\n          1,\n          0\n        ],\n        \"semantic_type\": \"\",\n        \"description\": \"\"\n      }\n    },\n    {\n      \"column\": \"ejection_fraction\",\n      \"properties\": {\n        \"dtype\": \"number\",\n        \"std\": 11,\n        \"min\": 14,\n        \"max\": 80,\n        \"num_unique_values\": 17,\n        \"samples\": [\n          38,\n          20\n        ],\n        \"semantic_type\": \"\",\n        \"description\": \"\"\n      }\n    },\n    {\n      \"column\": \"high_blood_pressure\",\n      \"properties\": {\n        \"dtype\": \"number\",\n        \"std\": 0,\n        \"min\": 0,\n        \"max\": 1,\n        \"num_unique_values\": 2,\n        \"samples\": [\n          1,\n          0\n        ],\n        \"semantic_type\": \"\",\n        \"description\": \"\"\n      }\n    },\n    {\n      \"column\": \"platelets\",\n      \"properties\": {\n        \"dtype\": \"number\",\n        \"std\": 89331.76626379327,\n        \"min\": 25100.0,\n        \"max\": 742000.0,\n        \"num_unique_values\": 158,\n        \"samples\": [\n          330000.0,\n          374000.0\n        ],\n        \"semantic_type\": \"\",\n        \"description\": \"\"\n      }\n    },\n    {\n      \"column\": \"serum_creatinine\",\n      \"properties\": {\n        \"dtype\": \"number\",\n        \"std\": 1.061952842585598,\n        \"min\": 0.5,\n        \"max\": 9.4,\n        \"num_unique_values\": 36,\n        \"samples\": [\n          3.8,\n          5.8\n        ],\n        \"semantic_type\": \"\",\n        \"description\": \"\"\n      }\n    },\n    {\n      \"column\": \"serum_sodium\",\n      \"properties\": {\n        \"dtype\": \"number\",\n        \"std\": 4,\n        \"min\": 113,\n        \"max\": 148,\n        \"num_unique_values\": 26,\n        \"samples\": [\n          140,\n          130\n        ],\n        \"semantic_type\": \"\",\n        \"description\": \"\"\n      }\n    },\n    {\n      \"column\": \"sex\",\n      \"properties\": {\n        \"dtype\": \"number\",\n        \"std\": 0,\n        \"min\": 0,\n        \"max\": 1,\n        \"num_unique_values\": 2,\n        \"samples\": [\n          0,\n          1\n        ],\n        \"semantic_type\": \"\",\n        \"description\": \"\"\n      }\n    },\n    {\n      \"column\": \"smoking\",\n      \"properties\": {\n        \"dtype\": \"number\",\n        \"std\": 0,\n        \"min\": 0,\n        \"max\": 1,\n        \"num_unique_values\": 2,\n        \"samples\": [\n          1,\n          0\n        ],\n        \"semantic_type\": \"\",\n        \"description\": \"\"\n      }\n    },\n    {\n      \"column\": \"time\",\n      \"properties\": {\n        \"dtype\": \"number\",\n        \"std\": 77,\n        \"min\": 6,\n        \"max\": 285,\n        \"num_unique_values\": 132,\n        \"samples\": [\n          95,\n          154\n        ],\n        \"semantic_type\": \"\",\n        \"description\": \"\"\n      }\n    },\n    {\n      \"column\": \"DEATH_EVENT\",\n      \"properties\": {\n        \"dtype\": \"number\",\n        \"std\": 0,\n        \"min\": 0,\n        \"max\": 1,\n        \"num_unique_values\": 2,\n        \"samples\": [\n          0,\n          1\n        ],\n        \"semantic_type\": \"\",\n        \"description\": \"\"\n      }\n    }\n  ]\n}",
              "type": "dataframe",
              "variable_name": "df"
            },
            "text/html": [
              "\n",
              "  <div id=\"df-9289b3a5-c11b-423f-94e3-0d9159eaed73\" class=\"colab-df-container\">\n",
              "    <div>\n",
              "<style scoped>\n",
              "    .dataframe tbody tr th:only-of-type {\n",
              "        vertical-align: middle;\n",
              "    }\n",
              "\n",
              "    .dataframe tbody tr th {\n",
              "        vertical-align: top;\n",
              "    }\n",
              "\n",
              "    .dataframe thead th {\n",
              "        text-align: right;\n",
              "    }\n",
              "</style>\n",
              "<table border=\"1\" class=\"dataframe\">\n",
              "  <thead>\n",
              "    <tr style=\"text-align: right;\">\n",
              "      <th></th>\n",
              "      <th>age</th>\n",
              "      <th>anaemia</th>\n",
              "      <th>creatinine_phosphokinase</th>\n",
              "      <th>diabetes</th>\n",
              "      <th>ejection_fraction</th>\n",
              "      <th>high_blood_pressure</th>\n",
              "      <th>platelets</th>\n",
              "      <th>serum_creatinine</th>\n",
              "      <th>serum_sodium</th>\n",
              "      <th>sex</th>\n",
              "      <th>smoking</th>\n",
              "      <th>time</th>\n",
              "      <th>DEATH_EVENT</th>\n",
              "    </tr>\n",
              "  </thead>\n",
              "  <tbody>\n",
              "    <tr>\n",
              "      <th>0</th>\n",
              "      <td>55.0</td>\n",
              "      <td>0</td>\n",
              "      <td>7861</td>\n",
              "      <td>0</td>\n",
              "      <td>38</td>\n",
              "      <td>0</td>\n",
              "      <td>263358.03</td>\n",
              "      <td>1.1</td>\n",
              "      <td>136</td>\n",
              "      <td>1</td>\n",
              "      <td>0</td>\n",
              "      <td>6</td>\n",
              "      <td>1</td>\n",
              "    </tr>\n",
              "    <tr>\n",
              "      <th>1</th>\n",
              "      <td>65.0</td>\n",
              "      <td>0</td>\n",
              "      <td>146</td>\n",
              "      <td>0</td>\n",
              "      <td>20</td>\n",
              "      <td>0</td>\n",
              "      <td>162000.00</td>\n",
              "      <td>1.3</td>\n",
              "      <td>129</td>\n",
              "      <td>1</td>\n",
              "      <td>1</td>\n",
              "      <td>7</td>\n",
              "      <td>1</td>\n",
              "    </tr>\n",
              "    <tr>\n",
              "      <th>2</th>\n",
              "      <td>50.0</td>\n",
              "      <td>1</td>\n",
              "      <td>111</td>\n",
              "      <td>0</td>\n",
              "      <td>20</td>\n",
              "      <td>0</td>\n",
              "      <td>210000.00</td>\n",
              "      <td>1.9</td>\n",
              "      <td>137</td>\n",
              "      <td>1</td>\n",
              "      <td>0</td>\n",
              "      <td>7</td>\n",
              "      <td>1</td>\n",
              "    </tr>\n",
              "    <tr>\n",
              "      <th>3</th>\n",
              "      <td>65.0</td>\n",
              "      <td>1</td>\n",
              "      <td>160</td>\n",
              "      <td>1</td>\n",
              "      <td>20</td>\n",
              "      <td>0</td>\n",
              "      <td>327000.00</td>\n",
              "      <td>2.7</td>\n",
              "      <td>116</td>\n",
              "      <td>0</td>\n",
              "      <td>0</td>\n",
              "      <td>8</td>\n",
              "      <td>1</td>\n",
              "    </tr>\n",
              "    <tr>\n",
              "      <th>4</th>\n",
              "      <td>75.0</td>\n",
              "      <td>1</td>\n",
              "      <td>246</td>\n",
              "      <td>0</td>\n",
              "      <td>15</td>\n",
              "      <td>0</td>\n",
              "      <td>127000.00</td>\n",
              "      <td>1.2</td>\n",
              "      <td>137</td>\n",
              "      <td>1</td>\n",
              "      <td>0</td>\n",
              "      <td>10</td>\n",
              "      <td>1</td>\n",
              "    </tr>\n",
              "  </tbody>\n",
              "</table>\n",
              "</div>\n",
              "    <div class=\"colab-df-buttons\">\n",
              "\n",
              "  <div class=\"colab-df-container\">\n",
              "    <button class=\"colab-df-convert\" onclick=\"convertToInteractive('df-9289b3a5-c11b-423f-94e3-0d9159eaed73')\"\n",
              "            title=\"Convert this dataframe to an interactive table.\"\n",
              "            style=\"display:none;\">\n",
              "\n",
              "  <svg xmlns=\"http://www.w3.org/2000/svg\" height=\"24px\" viewBox=\"0 -960 960 960\">\n",
              "    <path d=\"M120-120v-720h720v720H120Zm60-500h600v-160H180v160Zm220 220h160v-160H400v160Zm0 220h160v-160H400v160ZM180-400h160v-160H180v160Zm440 0h160v-160H620v160ZM180-180h160v-160H180v160Zm440 0h160v-160H620v160Z\"/>\n",
              "  </svg>\n",
              "    </button>\n",
              "\n",
              "  <style>\n",
              "    .colab-df-container {\n",
              "      display:flex;\n",
              "      gap: 12px;\n",
              "    }\n",
              "\n",
              "    .colab-df-convert {\n",
              "      background-color: #E8F0FE;\n",
              "      border: none;\n",
              "      border-radius: 50%;\n",
              "      cursor: pointer;\n",
              "      display: none;\n",
              "      fill: #1967D2;\n",
              "      height: 32px;\n",
              "      padding: 0 0 0 0;\n",
              "      width: 32px;\n",
              "    }\n",
              "\n",
              "    .colab-df-convert:hover {\n",
              "      background-color: #E2EBFA;\n",
              "      box-shadow: 0px 1px 2px rgba(60, 64, 67, 0.3), 0px 1px 3px 1px rgba(60, 64, 67, 0.15);\n",
              "      fill: #174EA6;\n",
              "    }\n",
              "\n",
              "    .colab-df-buttons div {\n",
              "      margin-bottom: 4px;\n",
              "    }\n",
              "\n",
              "    [theme=dark] .colab-df-convert {\n",
              "      background-color: #3B4455;\n",
              "      fill: #D2E3FC;\n",
              "    }\n",
              "\n",
              "    [theme=dark] .colab-df-convert:hover {\n",
              "      background-color: #434B5C;\n",
              "      box-shadow: 0px 1px 3px 1px rgba(0, 0, 0, 0.15);\n",
              "      filter: drop-shadow(0px 1px 2px rgba(0, 0, 0, 0.3));\n",
              "      fill: #FFFFFF;\n",
              "    }\n",
              "  </style>\n",
              "\n",
              "    <script>\n",
              "      const buttonEl =\n",
              "        document.querySelector('#df-9289b3a5-c11b-423f-94e3-0d9159eaed73 button.colab-df-convert');\n",
              "      buttonEl.style.display =\n",
              "        google.colab.kernel.accessAllowed ? 'block' : 'none';\n",
              "\n",
              "      async function convertToInteractive(key) {\n",
              "        const element = document.querySelector('#df-9289b3a5-c11b-423f-94e3-0d9159eaed73');\n",
              "        const dataTable =\n",
              "          await google.colab.kernel.invokeFunction('convertToInteractive',\n",
              "                                                    [key], {});\n",
              "        if (!dataTable) return;\n",
              "\n",
              "        const docLinkHtml = 'Like what you see? Visit the ' +\n",
              "          '<a target=\"_blank\" href=https://colab.research.google.com/notebooks/data_table.ipynb>data table notebook</a>'\n",
              "          + ' to learn more about interactive tables.';\n",
              "        element.innerHTML = '';\n",
              "        dataTable['output_type'] = 'display_data';\n",
              "        await google.colab.output.renderOutput(dataTable, element);\n",
              "        const docLink = document.createElement('div');\n",
              "        docLink.innerHTML = docLinkHtml;\n",
              "        element.appendChild(docLink);\n",
              "      }\n",
              "    </script>\n",
              "  </div>\n",
              "\n",
              "\n",
              "<div id=\"df-d5c8ab3f-b64b-4faf-abcc-b6ff912ea4a2\">\n",
              "  <button class=\"colab-df-quickchart\" onclick=\"quickchart('df-d5c8ab3f-b64b-4faf-abcc-b6ff912ea4a2')\"\n",
              "            title=\"Suggest charts\"\n",
              "            style=\"display:none;\">\n",
              "\n",
              "<svg xmlns=\"http://www.w3.org/2000/svg\" height=\"24px\"viewBox=\"0 0 24 24\"\n",
              "     width=\"24px\">\n",
              "    <g>\n",
              "        <path d=\"M19 3H5c-1.1 0-2 .9-2 2v14c0 1.1.9 2 2 2h14c1.1 0 2-.9 2-2V5c0-1.1-.9-2-2-2zM9 17H7v-7h2v7zm4 0h-2V7h2v10zm4 0h-2v-4h2v4z\"/>\n",
              "    </g>\n",
              "</svg>\n",
              "  </button>\n",
              "\n",
              "<style>\n",
              "  .colab-df-quickchart {\n",
              "      --bg-color: #E8F0FE;\n",
              "      --fill-color: #1967D2;\n",
              "      --hover-bg-color: #E2EBFA;\n",
              "      --hover-fill-color: #174EA6;\n",
              "      --disabled-fill-color: #AAA;\n",
              "      --disabled-bg-color: #DDD;\n",
              "  }\n",
              "\n",
              "  [theme=dark] .colab-df-quickchart {\n",
              "      --bg-color: #3B4455;\n",
              "      --fill-color: #D2E3FC;\n",
              "      --hover-bg-color: #434B5C;\n",
              "      --hover-fill-color: #FFFFFF;\n",
              "      --disabled-bg-color: #3B4455;\n",
              "      --disabled-fill-color: #666;\n",
              "  }\n",
              "\n",
              "  .colab-df-quickchart {\n",
              "    background-color: var(--bg-color);\n",
              "    border: none;\n",
              "    border-radius: 50%;\n",
              "    cursor: pointer;\n",
              "    display: none;\n",
              "    fill: var(--fill-color);\n",
              "    height: 32px;\n",
              "    padding: 0;\n",
              "    width: 32px;\n",
              "  }\n",
              "\n",
              "  .colab-df-quickchart:hover {\n",
              "    background-color: var(--hover-bg-color);\n",
              "    box-shadow: 0 1px 2px rgba(60, 64, 67, 0.3), 0 1px 3px 1px rgba(60, 64, 67, 0.15);\n",
              "    fill: var(--button-hover-fill-color);\n",
              "  }\n",
              "\n",
              "  .colab-df-quickchart-complete:disabled,\n",
              "  .colab-df-quickchart-complete:disabled:hover {\n",
              "    background-color: var(--disabled-bg-color);\n",
              "    fill: var(--disabled-fill-color);\n",
              "    box-shadow: none;\n",
              "  }\n",
              "\n",
              "  .colab-df-spinner {\n",
              "    border: 2px solid var(--fill-color);\n",
              "    border-color: transparent;\n",
              "    border-bottom-color: var(--fill-color);\n",
              "    animation:\n",
              "      spin 1s steps(1) infinite;\n",
              "  }\n",
              "\n",
              "  @keyframes spin {\n",
              "    0% {\n",
              "      border-color: transparent;\n",
              "      border-bottom-color: var(--fill-color);\n",
              "      border-left-color: var(--fill-color);\n",
              "    }\n",
              "    20% {\n",
              "      border-color: transparent;\n",
              "      border-left-color: var(--fill-color);\n",
              "      border-top-color: var(--fill-color);\n",
              "    }\n",
              "    30% {\n",
              "      border-color: transparent;\n",
              "      border-left-color: var(--fill-color);\n",
              "      border-top-color: var(--fill-color);\n",
              "      border-right-color: var(--fill-color);\n",
              "    }\n",
              "    40% {\n",
              "      border-color: transparent;\n",
              "      border-right-color: var(--fill-color);\n",
              "      border-top-color: var(--fill-color);\n",
              "    }\n",
              "    60% {\n",
              "      border-color: transparent;\n",
              "      border-right-color: var(--fill-color);\n",
              "    }\n",
              "    80% {\n",
              "      border-color: transparent;\n",
              "      border-right-color: var(--fill-color);\n",
              "      border-bottom-color: var(--fill-color);\n",
              "    }\n",
              "    90% {\n",
              "      border-color: transparent;\n",
              "      border-bottom-color: var(--fill-color);\n",
              "    }\n",
              "  }\n",
              "</style>\n",
              "\n",
              "  <script>\n",
              "    async function quickchart(key) {\n",
              "      const quickchartButtonEl =\n",
              "        document.querySelector('#' + key + ' button');\n",
              "      quickchartButtonEl.disabled = true;  // To prevent multiple clicks.\n",
              "      quickchartButtonEl.classList.add('colab-df-spinner');\n",
              "      try {\n",
              "        const charts = await google.colab.kernel.invokeFunction(\n",
              "            'suggestCharts', [key], {});\n",
              "      } catch (error) {\n",
              "        console.error('Error during call to suggestCharts:', error);\n",
              "      }\n",
              "      quickchartButtonEl.classList.remove('colab-df-spinner');\n",
              "      quickchartButtonEl.classList.add('colab-df-quickchart-complete');\n",
              "    }\n",
              "    (() => {\n",
              "      let quickchartButtonEl =\n",
              "        document.querySelector('#df-d5c8ab3f-b64b-4faf-abcc-b6ff912ea4a2 button');\n",
              "      quickchartButtonEl.style.display =\n",
              "        google.colab.kernel.accessAllowed ? 'block' : 'none';\n",
              "    })();\n",
              "  </script>\n",
              "</div>\n",
              "    </div>\n",
              "  </div>\n"
            ],
            "text/plain": [
              "    age  anaemia  creatinine_phosphokinase  diabetes  ejection_fraction  \\\n",
              "0  55.0        0                      7861         0                 38   \n",
              "1  65.0        0                       146         0                 20   \n",
              "2  50.0        1                       111         0                 20   \n",
              "3  65.0        1                       160         1                 20   \n",
              "4  75.0        1                       246         0                 15   \n",
              "\n",
              "   high_blood_pressure  platelets  serum_creatinine  serum_sodium  sex  \\\n",
              "0                    0  263358.03               1.1           136    1   \n",
              "1                    0  162000.00               1.3           129    1   \n",
              "2                    0  210000.00               1.9           137    1   \n",
              "3                    0  327000.00               2.7           116    0   \n",
              "4                    0  127000.00               1.2           137    1   \n",
              "\n",
              "   smoking  time  DEATH_EVENT  \n",
              "0        0     6            1  \n",
              "1        1     7            1  \n",
              "2        0     7            1  \n",
              "3        0     8            1  \n",
              "4        0    10            1  "
            ]
          },
          "execution_count": 195,
          "metadata": {},
          "output_type": "execute_result"
        }
      ],
      "source": [
        "df = pd.read_csv('train.csv')\n",
        "df.head(5)"
      ]
    },
    {
      "cell_type": "markdown",
      "metadata": {
        "id": "gqYtT0pq2ibX"
      },
      "source": [
        "### unneccessary cells"
      ]
    },
    {
      "cell_type": "code",
      "execution_count": 133,
      "metadata": {
        "colab": {
          "base_uri": "https://localhost:8080/"
        },
        "id": "lr4Y73loggCk",
        "outputId": "e15ccb71-c53e-40ec-f0a5-d8cdbdbd214e"
      },
      "outputs": [
        {
          "name": "stdout",
          "output_type": "stream",
          "text": [
            "<class 'pandas.core.frame.DataFrame'>\n",
            "RangeIndex: 249 entries, 0 to 248\n",
            "Data columns (total 13 columns):\n",
            " #   Column                    Non-Null Count  Dtype  \n",
            "---  ------                    --------------  -----  \n",
            " 0   age                       249 non-null    float64\n",
            " 1   anaemia                   249 non-null    int64  \n",
            " 2   creatinine_phosphokinase  249 non-null    int64  \n",
            " 3   diabetes                  249 non-null    int64  \n",
            " 4   ejection_fraction         249 non-null    int64  \n",
            " 5   high_blood_pressure       249 non-null    int64  \n",
            " 6   platelets                 249 non-null    float64\n",
            " 7   serum_creatinine          249 non-null    float64\n",
            " 8   serum_sodium              249 non-null    int64  \n",
            " 9   sex                       249 non-null    int64  \n",
            " 10  smoking                   249 non-null    int64  \n",
            " 11  time                      249 non-null    int64  \n",
            " 12  DEATH_EVENT               249 non-null    int64  \n",
            "dtypes: float64(3), int64(10)\n",
            "memory usage: 25.4 KB\n"
          ]
        }
      ],
      "source": [
        "df.info()"
      ]
    },
    {
      "cell_type": "code",
      "execution_count": 134,
      "metadata": {
        "colab": {
          "base_uri": "https://localhost:8080/"
        },
        "id": "SMWXZH1ZgnI4",
        "outputId": "4ca0af0a-6ce3-4cd8-cc97-da45a552087d"
      },
      "outputs": [
        {
          "data": {
            "text/plain": [
              "(249, 13)"
            ]
          },
          "execution_count": 134,
          "metadata": {},
          "output_type": "execute_result"
        }
      ],
      "source": [
        "df.shape"
      ]
    },
    {
      "cell_type": "markdown",
      "metadata": {
        "id": "Q6PmiPs8ywKY"
      },
      "source": [
        "##1-2: Train_Test_Split"
      ]
    },
    {
      "cell_type": "code",
      "execution_count": 135,
      "metadata": {
        "id": "ml1npqT8yzrO"
      },
      "outputs": [],
      "source": [
        "# first, we should split out the y column from the x columns\n",
        "\n",
        "X = df.drop('DEATH_EVENT', axis=1)\n",
        "y = df['DEATH_EVENT']"
      ]
    },
    {
      "cell_type": "code",
      "execution_count": 138,
      "metadata": {
        "id": "xWg095hghGAG"
      },
      "outputs": [],
      "source": [
        "X_train, X_valid, y_train, y_valid = train_test_split(X, y, test_size=0.2, random_state=42)"
      ]
    },
    {
      "cell_type": "code",
      "execution_count": 139,
      "metadata": {
        "colab": {
          "base_uri": "https://localhost:8080/"
        },
        "id": "D6G0hHz_hcda",
        "outputId": "c65fa7b7-e7f7-47c1-bbb6-7c3a06e62364"
      },
      "outputs": [
        {
          "data": {
            "text/plain": [
              "((199, 12), (199,))"
            ]
          },
          "execution_count": 139,
          "metadata": {},
          "output_type": "execute_result"
        }
      ],
      "source": [
        "X_train.shape, y_train.shape"
      ]
    },
    {
      "cell_type": "code",
      "execution_count": 140,
      "metadata": {
        "colab": {
          "base_uri": "https://localhost:8080/"
        },
        "id": "3SD_iwcYhiLF",
        "outputId": "a6d9b072-b6ab-4e9d-c21f-304ebd8ed45c"
      },
      "outputs": [
        {
          "data": {
            "text/plain": [
              "((50, 12), (50,))"
            ]
          },
          "execution_count": 140,
          "metadata": {},
          "output_type": "execute_result"
        }
      ],
      "source": [
        "X_valid.shape, y_valid.shape"
      ]
    },
    {
      "cell_type": "markdown",
      "metadata": {
        "id": "5qOD027He6RR"
      },
      "source": [
        "##1-3: Preprocess"
      ]
    },
    {
      "cell_type": "code",
      "execution_count": 141,
      "metadata": {
        "id": "ktw4x7sQPrGx"
      },
      "outputs": [],
      "source": [
        "X_train = torch.FloatTensor(X_train.values) #the X values data type are already float64 ...\n",
        "y_train = torch.FloatTensor(y_train.values) #the y column is already in the int64 datatype but thats just for more confidence\n",
        "\n",
        "X_valid = torch.FloatTensor(X_valid.values)\n",
        "y_valid = torch.FloatTensor(y_valid.values)"
      ]
    },
    {
      "cell_type": "code",
      "execution_count": 144,
      "metadata": {
        "id": "i0ciHvr6i-jS"
      },
      "outputs": [],
      "source": [
        "mu = X_train.mean(dim=0)\n",
        "std = X_train.std(dim=0)"
      ]
    },
    {
      "cell_type": "code",
      "execution_count": 145,
      "metadata": {
        "colab": {
          "base_uri": "https://localhost:8080/"
        },
        "id": "f4L323vajGw6",
        "outputId": "b66286fe-b692-4f72-8586-529100a3d1b1"
      },
      "outputs": [
        {
          "data": {
            "text/plain": [
              "(tensor([5.9621e+01, 3.8191e-01, 5.7404e+02, 3.8191e-01, 3.7774e+01, 3.6181e-01,\n",
              "         2.5571e+05, 1.3656e+00, 1.3652e+02, 6.5327e-01, 3.2663e-01, 1.3182e+02]),\n",
              " tensor([1.1176e+01, 4.8708e-01, 9.5891e+02, 4.8708e-01, 1.1973e+01, 4.8174e-01,\n",
              "         8.9907e+04, 1.0280e+00, 4.2851e+00, 4.7713e-01, 4.7016e-01, 7.6886e+01]))"
            ]
          },
          "execution_count": 145,
          "metadata": {},
          "output_type": "execute_result"
        }
      ],
      "source": [
        "mu, std"
      ]
    },
    {
      "cell_type": "code",
      "execution_count": 146,
      "metadata": {
        "id": "J24zZjbRjI6m"
      },
      "outputs": [],
      "source": [
        "X_train = (X_train - mu) / std\n",
        "X_valid = (X_valid - mu) / std"
      ]
    },
    {
      "cell_type": "markdown",
      "metadata": {
        "id": "noc_Rs8c2xAd"
      },
      "source": [
        "### unneccessary cells"
      ]
    },
    {
      "cell_type": "code",
      "execution_count": 142,
      "metadata": {
        "colab": {
          "base_uri": "https://localhost:8080/"
        },
        "id": "4gUWhmKiin11",
        "outputId": "30827e09-b27f-455e-e511-ac36e958c4e4"
      },
      "outputs": [
        {
          "data": {
            "text/plain": [
              "(torch.Tensor, torch.Tensor)"
            ]
          },
          "execution_count": 142,
          "metadata": {},
          "output_type": "execute_result"
        }
      ],
      "source": [
        "type(X_train), type(y_train)"
      ]
    },
    {
      "cell_type": "code",
      "execution_count": 143,
      "metadata": {
        "colab": {
          "base_uri": "https://localhost:8080/"
        },
        "id": "Ohph124ki0pp",
        "outputId": "55434c05-b79a-4efa-ae8b-d5ff5d801c19"
      },
      "outputs": [
        {
          "data": {
            "text/plain": [
              "tensor([[5.0000e+01, 0.0000e+00, 2.5000e+02, 0.0000e+00, 2.5000e+01, 0.0000e+00,\n",
              "         2.6200e+05, 1.0000e+00, 1.3600e+02, 1.0000e+00, 1.0000e+00, 1.2000e+02],\n",
              "        [6.0667e+01, 1.0000e+00, 1.5100e+02, 1.0000e+00, 4.0000e+01, 1.0000e+00,\n",
              "         2.0100e+05, 1.0000e+00, 1.3600e+02, 0.0000e+00, 0.0000e+00, 1.7200e+02],\n",
              "        [6.5000e+01, 0.0000e+00, 3.2600e+02, 0.0000e+00, 3.8000e+01, 0.0000e+00,\n",
              "         2.9400e+05, 1.7000e+00, 1.3900e+02, 0.0000e+00, 0.0000e+00, 2.2000e+02],\n",
              "        [5.0000e+01, 0.0000e+00, 4.8200e+02, 1.0000e+00, 3.0000e+01, 0.0000e+00,\n",
              "         3.2900e+05, 9.0000e-01, 1.3200e+02, 0.0000e+00, 0.0000e+00, 1.0900e+02],\n",
              "        [5.9000e+01, 0.0000e+00, 6.6000e+01, 1.0000e+00, 2.0000e+01, 0.0000e+00,\n",
              "         7.0000e+04, 2.4000e+00, 1.3400e+02, 1.0000e+00, 0.0000e+00, 1.3500e+02],\n",
              "        [7.0000e+01, 0.0000e+00, 6.9000e+01, 0.0000e+00, 4.0000e+01, 0.0000e+00,\n",
              "         2.9300e+05, 1.7000e+00, 1.3600e+02, 0.0000e+00, 0.0000e+00, 7.5000e+01],\n",
              "        [5.3000e+01, 0.0000e+00, 5.6000e+01, 0.0000e+00, 5.0000e+01, 0.0000e+00,\n",
              "         3.0800e+05, 7.0000e-01, 1.3500e+02, 1.0000e+00, 1.0000e+00, 2.3100e+02],\n",
              "        [5.0000e+01, 0.0000e+00, 5.8200e+02, 0.0000e+00, 5.0000e+01, 0.0000e+00,\n",
              "         1.5300e+05, 6.0000e-01, 1.3400e+02, 0.0000e+00, 0.0000e+00, 1.7200e+02],\n",
              "        [7.0000e+01, 0.0000e+00, 9.7000e+01, 0.0000e+00, 6.0000e+01, 1.0000e+00,\n",
              "         2.2000e+05, 9.0000e-01, 1.3800e+02, 1.0000e+00, 0.0000e+00, 1.8600e+02],\n",
              "        [5.5000e+01, 0.0000e+00, 8.3500e+02, 0.0000e+00, 4.0000e+01, 0.0000e+00,\n",
              "         2.7900e+05, 7.0000e-01, 1.4000e+02, 1.0000e+00, 1.0000e+00, 1.4700e+02]])"
            ]
          },
          "execution_count": 143,
          "metadata": {},
          "output_type": "execute_result"
        }
      ],
      "source": [
        "X_train[:10]"
      ]
    },
    {
      "cell_type": "code",
      "execution_count": 147,
      "metadata": {
        "colab": {
          "base_uri": "https://localhost:8080/"
        },
        "id": "VIP8RsrpjUAq",
        "outputId": "d389861b-3882-48bf-ef00-54c83477a205"
      },
      "outputs": [
        {
          "data": {
            "text/plain": [
              "tensor([[-0.8609, -0.7841, -0.3379, -0.7841, -1.0669, -0.7511,  0.0700, -0.3557,\n",
              "         -0.1220,  0.7267,  1.4322, -0.1537],\n",
              "        [ 0.0936,  1.2690, -0.4412,  1.2690,  0.1859,  1.3248, -0.6085, -0.3557,\n",
              "         -0.1220, -1.3692, -0.6947,  0.5226],\n",
              "        [ 0.4813, -0.7841, -0.2587, -0.7841,  0.0189, -0.7511,  0.4259,  0.3253,\n",
              "          0.5781, -1.3692, -0.6947,  1.1469],\n",
              "        [-0.8609, -0.7841, -0.0960,  1.2690, -0.6493, -0.7511,  0.8152, -0.4530,\n",
              "         -1.0554, -1.3692, -0.6947, -0.2968],\n",
              "        [-0.0556, -0.7841, -0.5298,  1.2690, -1.4845, -0.7511, -2.0656,  1.0062,\n",
              "         -0.5887,  0.7267, -0.6947,  0.0414]])"
            ]
          },
          "execution_count": 147,
          "metadata": {},
          "output_type": "execute_result"
        }
      ],
      "source": [
        "X_train[:5]"
      ]
    },
    {
      "cell_type": "markdown",
      "metadata": {
        "id": "5w5NN9K80w3r"
      },
      "source": [
        "##1-4: Dataloader"
      ]
    },
    {
      "cell_type": "code",
      "execution_count": 148,
      "metadata": {
        "id": "SDhFku1FJSWZ"
      },
      "outputs": [],
      "source": [
        "train_data = TensorDataset(X_train, y_train)\n",
        "valid_data = TensorDataset(X_valid, y_valid)"
      ]
    },
    {
      "cell_type": "code",
      "execution_count": 152,
      "metadata": {
        "id": "MTQSsZ6Wjj7U"
      },
      "outputs": [],
      "source": [
        "train_loader = DataLoader(train_data, batch_size=4, shuffle=True)\n",
        "valid_loader = DataLoader(valid_data, batch_size=8, shuffle=True)"
      ]
    },
    {
      "cell_type": "markdown",
      "metadata": {
        "id": "NQkDXCHy2_IA"
      },
      "source": [
        "### unneccessary cells"
      ]
    },
    {
      "cell_type": "code",
      "execution_count": 149,
      "metadata": {
        "colab": {
          "base_uri": "https://localhost:8080/"
        },
        "id": "vLNU7QJqjcOo",
        "outputId": "56ed3663-9256-4bfc-8cd1-29e39131bc57"
      },
      "outputs": [
        {
          "data": {
            "text/plain": [
              "(torch.utils.data.dataset.TensorDataset,\n",
              " torch.utils.data.dataset.TensorDataset)"
            ]
          },
          "execution_count": 149,
          "metadata": {},
          "output_type": "execute_result"
        }
      ],
      "source": [
        "type(train_data), type(valid_data)"
      ]
    },
    {
      "cell_type": "code",
      "execution_count": 150,
      "metadata": {
        "colab": {
          "base_uri": "https://localhost:8080/"
        },
        "id": "vqR6AyBAjfZ8",
        "outputId": "386e99d6-1f9a-444b-c495-58e05f14314e"
      },
      "outputs": [
        {
          "data": {
            "text/plain": [
              "(tensor([[-0.8609, -0.7841, -0.3379,  ...,  0.7267,  1.4322, -0.1537],\n",
              "         [ 0.0936,  1.2690, -0.4412,  ..., -1.3692, -0.6947,  0.5226],\n",
              "         [ 0.4813, -0.7841, -0.2587,  ..., -1.3692, -0.6947,  1.1469],\n",
              "         ...,\n",
              "         [-0.4135, -0.7841, -0.5361,  ...,  0.7267,  1.4322, -0.5439],\n",
              "         [ 0.9287, -0.7841,  0.6549,  ..., -1.3692, -0.6947,  0.8348],\n",
              "         [ 0.0339, -0.7841, -0.4985,  ..., -1.3692, -0.6947, -0.4789]]),\n",
              " tensor([0., 0., 0., 0., 1., 0., 0., 1., 0., 0., 0., 1., 1., 0., 0., 0., 0., 0.,\n",
              "         0., 0., 0., 0., 0., 0., 0., 0., 1., 1., 0., 0., 1., 1., 0., 1., 0., 0.,\n",
              "         0., 1., 0., 0., 1., 1., 0., 1., 1., 0., 1., 0., 0., 0., 0., 0., 0., 0.,\n",
              "         0., 1., 0., 0., 0., 0., 0., 0., 1., 0., 1., 1., 1., 1., 0., 0., 0., 0.,\n",
              "         0., 0., 0., 0., 0., 0., 1., 1., 0., 0., 0., 0., 1., 1., 1., 0., 1., 0.,\n",
              "         0., 0., 1., 0., 0., 0., 0., 0., 0., 0., 1., 0., 1., 0., 1., 1., 0., 1.,\n",
              "         0., 1., 0., 0., 1., 0., 1., 1., 0., 0., 1., 1., 0., 0., 0., 0., 0., 1.,\n",
              "         0., 0., 1., 0., 1., 0., 0., 1., 0., 1., 0., 0., 1., 1., 1., 0., 0., 1.,\n",
              "         0., 0., 1., 0., 0., 0., 0., 1., 0., 1., 0., 0., 0., 0., 0., 0., 0., 0.,\n",
              "         0., 1., 0., 1., 0., 0., 0., 0., 0., 1., 0., 1., 0., 0., 1., 1., 0., 0.,\n",
              "         1., 1., 1., 0., 1., 0., 0., 0., 0., 0., 0., 1., 0., 0., 0., 1., 0., 0.,\n",
              "         0.]))"
            ]
          },
          "execution_count": 150,
          "metadata": {},
          "output_type": "execute_result"
        }
      ],
      "source": [
        "train_data.tensors"
      ]
    },
    {
      "cell_type": "code",
      "execution_count": 153,
      "metadata": {
        "colab": {
          "base_uri": "https://localhost:8080/"
        },
        "id": "KJ3Ig4BGj6DZ",
        "outputId": "fd4049f1-8bd5-4d68-847c-8a071c034666"
      },
      "outputs": [
        {
          "data": {
            "text/plain": [
              "<torch.utils.data.dataset.TensorDataset at 0x7cb467030d60>"
            ]
          },
          "execution_count": 153,
          "metadata": {},
          "output_type": "execute_result"
        }
      ],
      "source": [
        "train_loader.dataset"
      ]
    },
    {
      "cell_type": "code",
      "execution_count": 155,
      "metadata": {
        "colab": {
          "base_uri": "https://localhost:8080/"
        },
        "id": "BjEh5SI8kIpS",
        "outputId": "6307c3dc-8695-4677-8469-3aa8450fc8cc"
      },
      "outputs": [
        {
          "data": {
            "text/plain": [
              "4"
            ]
          },
          "execution_count": 155,
          "metadata": {},
          "output_type": "execute_result"
        }
      ],
      "source": [
        "train_loader.batch_size"
      ]
    },
    {
      "cell_type": "code",
      "execution_count": 154,
      "metadata": {
        "colab": {
          "base_uri": "https://localhost:8080/"
        },
        "id": "RI-H6czMkKyv",
        "outputId": "636f6b46-c7ca-4014-90bd-f51d93c261d4"
      },
      "outputs": [
        {
          "data": {
            "text/plain": [
              "50"
            ]
          },
          "execution_count": 154,
          "metadata": {},
          "output_type": "execute_result"
        }
      ],
      "source": [
        "len(train_loader)"
      ]
    },
    {
      "cell_type": "code",
      "execution_count": 156,
      "metadata": {
        "colab": {
          "base_uri": "https://localhost:8080/"
        },
        "id": "XdsFd3unkNVN",
        "outputId": "7b13f131-24d5-494c-be35-9c67dcecd4cb"
      },
      "outputs": [
        {
          "data": {
            "text/plain": [
              "[tensor([[-1.5767, -0.7841, -0.5319, -0.7841, -0.6493, -0.7511, -0.4528,  2.3681,\n",
              "          -1.9889,  0.7267,  1.4322,  1.5371],\n",
              "         [-0.4135,  1.2690, -0.4109, -0.7841,  0.6035, -0.7511,  0.0851, -0.1806,\n",
              "           0.1114,  0.7267,  1.4322,  1.0298],\n",
              "         [ 0.4813, -0.7841, -0.4245, -0.7841, -0.6493, -0.7511,  0.0366, -0.5502,\n",
              "           0.3448, -1.3692, -0.6947,  0.7047],\n",
              "         [ 0.7497,  1.2690, -0.4349,  1.2690,  1.8564, -0.7511, -0.5306, -0.3557,\n",
              "           0.8115, -1.3692, -0.6947,  1.3680]]),\n",
              " tensor([0., 0., 0., 0.])]"
            ]
          },
          "execution_count": 156,
          "metadata": {},
          "output_type": "execute_result"
        }
      ],
      "source": [
        "next(iter(train_loader))"
      ]
    },
    {
      "cell_type": "code",
      "execution_count": 157,
      "metadata": {
        "colab": {
          "base_uri": "https://localhost:8080/"
        },
        "id": "2VA2xRU-kVKx",
        "outputId": "39b543f1-593a-4f9e-a19f-4559b59390e1"
      },
      "outputs": [
        {
          "data": {
            "text/plain": [
              "[tensor([[-0.9504, -0.7841,  0.4150,  1.2690, -0.2317,  1.3248,  0.1367, -0.5502,\n",
              "          -1.5222, -1.3692, -0.6947,  0.7177],\n",
              "         [-0.5925,  1.2690,  0.0083, -0.7841,  0.6035, -0.7511,  0.5483, -0.2584,\n",
              "           0.1114,  0.7267,  1.4322,  1.0038],\n",
              "         [-0.5925, -0.7841, -0.5329,  1.2690,  1.8564, -0.7511,  1.2490, -0.5502,\n",
              "          -0.3553,  0.7267, -0.6947, -1.4283],\n",
              "         [-1.5767,  1.2690, -0.5089, -0.7841, -0.2317, -0.7511,  1.2156, -0.2584,\n",
              "           0.5781,  0.7267,  1.4322,  0.8998],\n",
              "         [-0.8609,  1.2690, -0.4234, -0.7841,  0.0189,  1.3248,  0.2257, -0.2584,\n",
              "           0.1114,  0.7267, -0.6947, -1.5714],\n",
              "         [ 0.1234,  1.2690, -0.5110, -0.7841,  0.1859,  1.3248, -0.2971, -0.4530,\n",
              "           1.0449, -1.3692, -0.6947, -0.2838],\n",
              "         [-1.2188,  1.2690, -0.2952, -0.7841, -0.2317, -0.7511,  1.0265, -0.4530,\n",
              "           0.8115, -1.3692, -0.6947, -0.2968],\n",
              "         [ 3.0762, -0.7841,  0.0083,  1.2690,  0.0189,  1.3248,  0.0851,  0.4517,\n",
              "          -0.5887,  0.7267, -0.6947, -1.3633]]),\n",
              " tensor([0., 0., 0., 0., 1., 0., 0., 1.])]"
            ]
          },
          "execution_count": 157,
          "metadata": {},
          "output_type": "execute_result"
        }
      ],
      "source": [
        "next(iter(valid_loader))"
      ]
    },
    {
      "cell_type": "markdown",
      "metadata": {
        "id": "-NBcJXJkfgUI"
      },
      "source": [
        "#**Section2: Define Model🧠**"
      ]
    },
    {
      "cell_type": "markdown",
      "metadata": {
        "id": "vS9kfN73JdVR"
      },
      "source": [
        "##2-1: make your MLP Model"
      ]
    },
    {
      "cell_type": "code",
      "execution_count": 158,
      "metadata": {
        "id": "2b9Po2RYfi8C"
      },
      "outputs": [],
      "source": [
        "model = nn.Sequential(\n",
        "    nn.Linear(12, 32),\n",
        "    nn.ReLU(),\n",
        "    nn.Linear(32, 64),\n",
        "    nn.ReLU(),\n",
        "    nn.Linear(64, 32),\n",
        "    nn.ReLU(),\n",
        "    nn.Linear(32, 1),\n",
        "    nn.Sigmoid()\n",
        ")"
      ]
    },
    {
      "cell_type": "code",
      "execution_count": 159,
      "metadata": {
        "colab": {
          "base_uri": "https://localhost:8080/"
        },
        "id": "3sXyR6FJlsMl",
        "outputId": "438f710f-da7a-4f24-8fea-4c33e57889af"
      },
      "outputs": [
        {
          "data": {
            "text/plain": [
              "Sequential(\n",
              "  (0): Linear(in_features=12, out_features=32, bias=True)\n",
              "  (1): ReLU()\n",
              "  (2): Linear(in_features=32, out_features=64, bias=True)\n",
              "  (3): ReLU()\n",
              "  (4): Linear(in_features=64, out_features=32, bias=True)\n",
              "  (5): ReLU()\n",
              "  (6): Linear(in_features=32, out_features=1, bias=True)\n",
              "  (7): Sigmoid()\n",
              ")"
            ]
          },
          "execution_count": 159,
          "metadata": {},
          "output_type": "execute_result"
        }
      ],
      "source": [
        "model"
      ]
    },
    {
      "cell_type": "code",
      "execution_count": 160,
      "metadata": {
        "colab": {
          "base_uri": "https://localhost:8080/"
        },
        "id": "QOHqN22cma16",
        "outputId": "bc73952a-7324-4af1-ffd6-e8d5a45d3864"
      },
      "outputs": [
        {
          "data": {
            "text/plain": [
              "[Parameter containing:\n",
              " tensor([[ 0.1199,  0.0921,  0.0686, -0.2639,  0.2377,  0.0662, -0.1809, -0.1493,\n",
              "          -0.0510, -0.0033,  0.1172,  0.1067],\n",
              "         [ 0.1308,  0.1906,  0.1425,  0.2310,  0.1513, -0.2164, -0.1201,  0.2686,\n",
              "          -0.0849,  0.1798, -0.2180,  0.0741],\n",
              "         [-0.0143, -0.2442,  0.2442,  0.2332, -0.2669, -0.1770,  0.2822, -0.1185,\n",
              "          -0.1966,  0.0440,  0.1428,  0.0186],\n",
              "         [-0.0891, -0.0017, -0.2017, -0.2420, -0.1647, -0.1810, -0.1364, -0.2585,\n",
              "          -0.1415, -0.2106, -0.2769,  0.2037],\n",
              "         [-0.2531,  0.0425, -0.2128, -0.2002,  0.2489,  0.1389,  0.2696,  0.1051,\n",
              "           0.0282, -0.0863,  0.0855, -0.0909],\n",
              "         [-0.2458, -0.2601, -0.1566,  0.2301, -0.0417, -0.2226,  0.2231, -0.0549,\n",
              "           0.1647,  0.0332, -0.0265, -0.0056],\n",
              "         [-0.0254, -0.1459,  0.0906,  0.0370,  0.1499, -0.1286,  0.2191, -0.2015,\n",
              "          -0.2777, -0.1665,  0.1717, -0.2075],\n",
              "         [ 0.0407, -0.2378,  0.1099,  0.2886, -0.1876, -0.2236,  0.2124, -0.1580,\n",
              "          -0.2614,  0.2676, -0.1020,  0.1041],\n",
              "         [ 0.0285,  0.0890, -0.0623,  0.1112, -0.2477,  0.0787, -0.1429, -0.0111,\n",
              "          -0.0389,  0.0913,  0.0692, -0.1877],\n",
              "         [ 0.1685, -0.2725, -0.1412, -0.1068,  0.1357,  0.2570,  0.0435,  0.1059,\n",
              "          -0.0207, -0.1358,  0.0869, -0.2321],\n",
              "         [ 0.2396,  0.0031, -0.2240,  0.0942,  0.0143, -0.2209,  0.1991,  0.2290,\n",
              "          -0.2384,  0.0737, -0.0095,  0.0966],\n",
              "         [-0.2757, -0.1817,  0.2609, -0.1755, -0.1288,  0.1553, -0.2454, -0.1756,\n",
              "           0.2866, -0.1836,  0.2042,  0.2856],\n",
              "         [ 0.2025,  0.2118, -0.2789, -0.2214, -0.0600, -0.0508,  0.0044, -0.0684,\n",
              "           0.1408, -0.1724, -0.0539,  0.0543],\n",
              "         [ 0.0320, -0.1304,  0.1335, -0.1166,  0.0441,  0.0929, -0.1262,  0.0300,\n",
              "           0.1743, -0.1852, -0.1941, -0.1739],\n",
              "         [-0.1736, -0.1624, -0.2188, -0.1982, -0.0809, -0.1686, -0.2159,  0.0431,\n",
              "           0.2664, -0.0459,  0.1246,  0.0698],\n",
              "         [-0.2559, -0.1952, -0.0533,  0.0412, -0.0673,  0.2376,  0.2553,  0.1741,\n",
              "          -0.2728, -0.0155, -0.0791,  0.2727],\n",
              "         [-0.0742,  0.1949, -0.0155, -0.2862, -0.2420, -0.2049,  0.0348,  0.0778,\n",
              "          -0.1475,  0.1759,  0.2181,  0.1360],\n",
              "         [-0.0151, -0.1200,  0.2003,  0.0395, -0.1414,  0.1950, -0.2560,  0.1194,\n",
              "           0.0609, -0.2547,  0.0160,  0.1988],\n",
              "         [ 0.0240,  0.1025, -0.1689,  0.2287, -0.1953,  0.2642, -0.1395, -0.1176,\n",
              "          -0.0791,  0.2433,  0.1545, -0.2036],\n",
              "         [ 0.1078, -0.0694, -0.1696, -0.0929,  0.2273, -0.1560,  0.1151, -0.1565,\n",
              "          -0.1014, -0.0434,  0.1010,  0.2019],\n",
              "         [ 0.2590,  0.2056,  0.0150, -0.2541,  0.0922, -0.0777, -0.1097, -0.2736,\n",
              "          -0.2653, -0.0106,  0.0664, -0.2173],\n",
              "         [-0.0579,  0.0226,  0.0895,  0.2466,  0.2425, -0.1094,  0.2854,  0.1910,\n",
              "          -0.2532,  0.1077, -0.2007,  0.1543],\n",
              "         [-0.0191, -0.0810,  0.1547,  0.0339, -0.2088, -0.2288,  0.1803, -0.1252,\n",
              "          -0.2657, -0.0133,  0.2833,  0.1983],\n",
              "         [-0.2256,  0.0452,  0.2452, -0.1677,  0.2517, -0.2086, -0.2723,  0.1596,\n",
              "           0.1356, -0.1554, -0.0069, -0.0294],\n",
              "         [ 0.1854,  0.0043,  0.2632,  0.1733, -0.0664,  0.1994,  0.0505,  0.0363,\n",
              "           0.0650,  0.2815, -0.2490, -0.1919],\n",
              "         [ 0.2629,  0.0195,  0.2647,  0.0145,  0.2056,  0.1106, -0.0243,  0.1782,\n",
              "          -0.0156, -0.0565, -0.2388,  0.0950],\n",
              "         [-0.1210, -0.1579,  0.0845,  0.0689,  0.2162,  0.1371,  0.2372, -0.1336,\n",
              "           0.1224,  0.1912, -0.1956,  0.0646],\n",
              "         [-0.1283, -0.2162,  0.2174,  0.1246, -0.0712, -0.2211, -0.2348, -0.0313,\n",
              "           0.0415, -0.0273, -0.2702, -0.1703],\n",
              "         [ 0.0488, -0.0079,  0.2805,  0.2785, -0.0045,  0.0746, -0.0242, -0.2363,\n",
              "          -0.1698, -0.1161,  0.0275, -0.1767],\n",
              "         [ 0.0852, -0.0472,  0.2676, -0.2030,  0.0184,  0.0303, -0.2223,  0.2336,\n",
              "           0.2290,  0.0488,  0.1813,  0.1432],\n",
              "         [ 0.2471, -0.1786, -0.1780,  0.1376, -0.2070, -0.1040,  0.0845,  0.0726,\n",
              "          -0.1967,  0.0707,  0.2091,  0.1165],\n",
              "         [-0.1833,  0.2088, -0.1441,  0.0228, -0.1098,  0.1366, -0.0031, -0.2270,\n",
              "           0.0411,  0.0044, -0.2169,  0.0149]], requires_grad=True),\n",
              " Parameter containing:\n",
              " tensor([ 0.2408, -0.0315, -0.2379, -0.0436, -0.2466,  0.1093, -0.0578, -0.0498,\n",
              "         -0.1171, -0.2123, -0.1584, -0.2064,  0.2482, -0.1382, -0.0989,  0.0025,\n",
              "          0.0430, -0.0205,  0.1901,  0.1177, -0.0786,  0.1342,  0.0140, -0.1819,\n",
              "          0.2319,  0.1618, -0.0652, -0.0947, -0.0654,  0.1265,  0.1271, -0.0045],\n",
              "        requires_grad=True),\n",
              " Parameter containing:\n",
              " tensor([[-0.0753, -0.0224,  0.0527,  ...,  0.0048, -0.1670, -0.0162],\n",
              "         [ 0.0987,  0.0400,  0.0359,  ...,  0.1525, -0.1650,  0.1584],\n",
              "         [-0.0096,  0.0570, -0.1613,  ..., -0.1164, -0.1465, -0.1277],\n",
              "         ...,\n",
              "         [ 0.1701,  0.1520, -0.0200,  ...,  0.1562, -0.1720,  0.0773],\n",
              "         [-0.1008,  0.0135, -0.1508,  ..., -0.0794, -0.0586,  0.0642],\n",
              "         [ 0.1229, -0.0851, -0.1057,  ...,  0.1576, -0.0445,  0.1581]],\n",
              "        requires_grad=True),\n",
              " Parameter containing:\n",
              " tensor([-0.1029, -0.1128,  0.1121, -0.1236, -0.1684,  0.1284,  0.0371, -0.0892,\n",
              "          0.0902,  0.0908,  0.0130, -0.1222, -0.0709, -0.0285,  0.0209, -0.1498,\n",
              "         -0.0768, -0.0756,  0.1310, -0.0018,  0.0200, -0.0203, -0.1308, -0.1073,\n",
              "         -0.1159, -0.0433, -0.0282,  0.0205, -0.1246, -0.0194,  0.1141, -0.0977,\n",
              "         -0.0327, -0.1122, -0.1178, -0.0337, -0.1100, -0.1521,  0.0614,  0.0459,\n",
              "         -0.0645, -0.0689, -0.0999,  0.0234, -0.0111,  0.1752,  0.0205, -0.1168,\n",
              "          0.1046, -0.1715, -0.0310, -0.0982, -0.1394,  0.0293, -0.1486, -0.1438,\n",
              "         -0.1041, -0.1201, -0.0134, -0.1463,  0.0741, -0.0254, -0.0951,  0.1436],\n",
              "        requires_grad=True),\n",
              " Parameter containing:\n",
              " tensor([[ 1.9061e-02, -4.3404e-02,  3.6695e-03,  ...,  3.6296e-02,\n",
              "          -3.4206e-02,  3.9107e-02],\n",
              "         [-8.2021e-02, -8.0829e-03,  8.7635e-02,  ...,  1.0025e-01,\n",
              "           3.6967e-02,  1.0627e-01],\n",
              "         [-4.1290e-02,  1.2476e-01, -1.0892e-01,  ...,  1.1147e-01,\n",
              "          -6.5694e-03,  9.7466e-02],\n",
              "         ...,\n",
              "         [-1.0441e-02,  3.5428e-03,  4.8944e-02,  ...,  2.2597e-02,\n",
              "          -6.0128e-02, -3.2739e-02],\n",
              "         [-3.4648e-02,  6.2858e-02,  1.1652e-01,  ..., -8.7346e-03,\n",
              "           2.2265e-03, -2.5238e-02],\n",
              "         [ 7.8191e-03, -1.0290e-01, -1.2475e-02,  ..., -6.0946e-05,\n",
              "           1.0194e-02,  1.0357e-01]], requires_grad=True),\n",
              " Parameter containing:\n",
              " tensor([ 0.1154, -0.0685,  0.0942, -0.0728, -0.0424, -0.1120, -0.1036, -0.0480,\n",
              "          0.0025,  0.0518,  0.1108,  0.0222,  0.0861, -0.1146, -0.0070, -0.0180,\n",
              "         -0.0471, -0.0006, -0.0859, -0.0672, -0.0423,  0.0451,  0.0847,  0.0513,\n",
              "         -0.0031, -0.0719, -0.0605,  0.0282,  0.0282,  0.0693, -0.0876,  0.0029],\n",
              "        requires_grad=True),\n",
              " Parameter containing:\n",
              " tensor([[ 0.1517,  0.1124,  0.0296, -0.0716, -0.0933, -0.0137, -0.0183,  0.1748,\n",
              "           0.0695,  0.0267, -0.1144, -0.0134, -0.0009,  0.1103,  0.1549, -0.0071,\n",
              "           0.1065,  0.0367,  0.0020, -0.1698,  0.0818,  0.0526,  0.0235,  0.0608,\n",
              "           0.0977, -0.1620,  0.0786,  0.0463,  0.1138, -0.1031,  0.0821,  0.0695]],\n",
              "        requires_grad=True),\n",
              " Parameter containing:\n",
              " tensor([0.1473], requires_grad=True)]"
            ]
          },
          "execution_count": 160,
          "metadata": {},
          "output_type": "execute_result"
        }
      ],
      "source": [
        "list(model.parameters())"
      ]
    },
    {
      "cell_type": "code",
      "execution_count": 161,
      "metadata": {
        "id": "WlG60VEBl9EO"
      },
      "outputs": [],
      "source": [
        "X_batch, y_batch = next(iter(train_loader))"
      ]
    },
    {
      "cell_type": "code",
      "execution_count": 162,
      "metadata": {
        "colab": {
          "base_uri": "https://localhost:8080/"
        },
        "id": "Zd9vdE_TmMSE",
        "outputId": "43f3358e-0ecc-4a81-9382-8032966eef3f"
      },
      "outputs": [
        {
          "data": {
            "text/plain": [
              "tensor([0., 0., 0., 0.])"
            ]
          },
          "execution_count": 162,
          "metadata": {},
          "output_type": "execute_result"
        }
      ],
      "source": [
        "y_batch"
      ]
    },
    {
      "cell_type": "code",
      "execution_count": 163,
      "metadata": {
        "id": "MJpEu6ywl2gy"
      },
      "outputs": [],
      "source": [
        "yp = model(X_batch)"
      ]
    },
    {
      "cell_type": "code",
      "execution_count": 164,
      "metadata": {
        "colab": {
          "base_uri": "https://localhost:8080/"
        },
        "id": "4Dvl8wwumJmS",
        "outputId": "82d4ccef-8987-4855-90b5-7aeb4102b0fd"
      },
      "outputs": [
        {
          "data": {
            "text/plain": [
              "tensor([[0.5374],\n",
              "        [0.5363],\n",
              "        [0.5445],\n",
              "        [0.5394]], grad_fn=<SigmoidBackward0>)"
            ]
          },
          "execution_count": 164,
          "metadata": {},
          "output_type": "execute_result"
        }
      ],
      "source": [
        "yp"
      ]
    },
    {
      "cell_type": "markdown",
      "metadata": {
        "id": "xFbRtOqLfnh6"
      },
      "source": [
        "##2-2: Loss and Optimizer"
      ]
    },
    {
      "cell_type": "code",
      "execution_count": 165,
      "metadata": {
        "id": "EpzTOAOafj8e"
      },
      "outputs": [],
      "source": [
        "loss_fn = nn.BCELoss()\n",
        "optimizer = optim.SGD(model.parameters(), lr=0.01)"
      ]
    },
    {
      "cell_type": "markdown",
      "metadata": {
        "id": "bJ90IgLMe5HO"
      },
      "source": [
        "##2-3: Bias for last layer(before train)"
      ]
    },
    {
      "cell_type": "code",
      "execution_count": 166,
      "metadata": {
        "colab": {
          "base_uri": "https://localhost:8080/"
        },
        "id": "mXiBtVFJfA0O",
        "outputId": "2edde60f-eb06-4490-834f-5a7edf6ef28c"
      },
      "outputs": [
        {
          "name": "stdout",
          "output_type": "stream",
          "text": [
            "Parameter containing:\n",
            "tensor([0.1473], requires_grad=True)\n"
          ]
        }
      ],
      "source": [
        "### last layer biases\n",
        "last_layer_biases = model[-2].bias\n",
        "print(last_layer_biases)"
      ]
    },
    {
      "cell_type": "markdown",
      "metadata": {
        "id": "M8dCiDkifIW6"
      },
      "source": [
        "#**Section3: Device⚙️**"
      ]
    },
    {
      "cell_type": "code",
      "execution_count": 167,
      "metadata": {
        "colab": {
          "base_uri": "https://localhost:8080/"
        },
        "id": "8dtUMYG_fLVS",
        "outputId": "1a8de4ad-7e6d-4377-ca91-bf47fd652434"
      },
      "outputs": [
        {
          "data": {
            "text/plain": [
              "True"
            ]
          },
          "execution_count": 167,
          "metadata": {},
          "output_type": "execute_result"
        }
      ],
      "source": [
        "torch.cuda.is_available()"
      ]
    },
    {
      "cell_type": "code",
      "execution_count": 168,
      "metadata": {
        "id": "zzXCg_jvpJ1u"
      },
      "outputs": [],
      "source": [
        "device = 'cuda' if torch.cuda.is_available() else 'cpu'"
      ]
    },
    {
      "cell_type": "code",
      "execution_count": 169,
      "metadata": {
        "colab": {
          "base_uri": "https://localhost:8080/",
          "height": 0
        },
        "id": "s6En0df7pNWV",
        "outputId": "74445843-4210-4016-a58c-c7d28e61067b"
      },
      "outputs": [
        {
          "data": {
            "application/vnd.google.colaboratory.intrinsic+json": {
              "type": "string"
            },
            "text/plain": [
              "'cuda'"
            ]
          },
          "execution_count": 169,
          "metadata": {},
          "output_type": "execute_result"
        }
      ],
      "source": [
        "device"
      ]
    },
    {
      "cell_type": "code",
      "execution_count": 170,
      "metadata": {
        "id": "JiFGJuTPpViM"
      },
      "outputs": [],
      "source": [
        "model = model.to(device)"
      ]
    },
    {
      "cell_type": "markdown",
      "metadata": {
        "id": "smHqYYnjfz0v"
      },
      "source": [
        "#**Section4: Train Model🤓**"
      ]
    },
    {
      "cell_type": "markdown",
      "metadata": {
        "id": "mbpEEA0g1-Be"
      },
      "source": [
        "##4-1:Utils"
      ]
    },
    {
      "cell_type": "code",
      "execution_count": 171,
      "metadata": {
        "id": "G6s889_UrqDT"
      },
      "outputs": [],
      "source": [
        "class AverageMeter(object):\n",
        "    \"\"\"Computes and stores the average and current value\"\"\"\n",
        "    def __init__(self):\n",
        "        self.reset()\n",
        "\n",
        "    def reset(self):\n",
        "        self.val = 0\n",
        "        self.avg = 0\n",
        "        self.sum = 0\n",
        "        self.count = 0\n",
        "\n",
        "    def update(self, val, n=1):\n",
        "        self.val = val\n",
        "        self.sum += val * n\n",
        "        self.count += n\n",
        "        self.avg = self.sum / self.count"
      ]
    },
    {
      "cell_type": "markdown",
      "metadata": {
        "id": "4eRJfJv_EtQ8"
      },
      "source": [
        "##4-1: Torchmetrics"
      ]
    },
    {
      "cell_type": "code",
      "execution_count": 172,
      "metadata": {
        "id": "Xy4Y_D3TS3Ud"
      },
      "outputs": [],
      "source": [
        "acc = BinaryAccuracy()"
      ]
    },
    {
      "cell_type": "markdown",
      "metadata": {
        "id": "zzw9GTrIS_wJ"
      },
      "source": [
        "##4-2:Train Loop"
      ]
    },
    {
      "cell_type": "code",
      "execution_count": 174,
      "metadata": {
        "colab": {
          "base_uri": "https://localhost:8080/"
        },
        "id": "xwhh2m21S7D0",
        "outputId": "6eca979d-c033-4349-92e6-5a722652cf5a"
      },
      "outputs": [
        {
          "name": "stdout",
          "output_type": "stream",
          "text": [
            "Epoch 0\n",
            "Train: Loss = 0.0008303, Acc = 1.0\n",
            "Valid: Loss = 1.293, Acc = 0.8\n",
            "\n",
            "Epoch 10\n",
            "Train: Loss = 0.0007897, Acc = 1.0\n",
            "Valid: Loss = 1.809, Acc = 0.8\n",
            "\n",
            "Epoch 20\n",
            "Train: Loss = 0.0007532, Acc = 1.0\n",
            "Valid: Loss = 1.324, Acc = 0.8\n",
            "\n",
            "Epoch 30\n",
            "Train: Loss = 0.0007216, Acc = 1.0\n",
            "Valid: Loss = 1.334, Acc = 0.8\n",
            "\n",
            "Epoch 40\n",
            "Train: Loss = 0.0006891, Acc = 1.0\n",
            "Valid: Loss = 1.839, Acc = 0.8\n",
            "\n",
            "Epoch 50\n",
            "Train: Loss = 0.0006589, Acc = 1.0\n",
            "Valid: Loss = 2.127, Acc = 0.8\n",
            "\n",
            "Epoch 60\n",
            "Train: Loss = 0.0006314, Acc = 1.0\n",
            "Valid: Loss = 1.336, Acc = 0.8\n",
            "\n",
            "Epoch 70\n",
            "Train: Loss = 0.0006025, Acc = 1.0\n",
            "Valid: Loss = 2.174, Acc = 0.8\n",
            "\n",
            "Epoch 80\n",
            "Train: Loss = 0.0005904, Acc = 1.0\n",
            "Valid: Loss = 2.104, Acc = 0.8\n",
            "\n",
            "Epoch 90\n",
            "Train: Loss = 0.0005582, Acc = 1.0\n",
            "Valid: Loss = 1.359, Acc = 0.8\n",
            "\n",
            "Epoch 100\n",
            "Train: Loss = 0.0005364, Acc = 1.0\n",
            "Valid: Loss = 1.515, Acc = 0.8\n",
            "\n",
            "Epoch 110\n",
            "Train: Loss = 0.0005194, Acc = 1.0\n",
            "Valid: Loss = 1.522, Acc = 0.8\n",
            "\n",
            "Epoch 120\n",
            "Train: Loss = 0.0005031, Acc = 1.0\n",
            "Valid: Loss = 1.373, Acc = 0.8\n",
            "\n",
            "Epoch 130\n",
            "Train: Loss = 0.0004852, Acc = 1.0\n",
            "Valid: Loss = 1.538, Acc = 0.8\n",
            "\n",
            "Epoch 140\n",
            "Train: Loss = 0.0004663, Acc = 1.0\n",
            "Valid: Loss = 1.381, Acc = 0.8\n",
            "\n",
            "Epoch 150\n",
            "Train: Loss = 0.0004521, Acc = 1.0\n",
            "Valid: Loss = 2.205, Acc = 0.8\n",
            "\n",
            "Epoch 160\n",
            "Train: Loss = 0.0004375, Acc = 1.0\n",
            "Valid: Loss = 1.403, Acc = 0.8\n",
            "\n",
            "Epoch 170\n",
            "Train: Loss = 0.0004245, Acc = 1.0\n",
            "Valid: Loss = 1.416, Acc = 0.8\n",
            "\n",
            "Epoch 180\n",
            "Train: Loss = 0.000413, Acc = 1.0\n",
            "Valid: Loss = 1.995, Acc = 0.8\n",
            "\n",
            "Epoch 190\n",
            "Train: Loss = 0.0004003, Acc = 1.0\n",
            "Valid: Loss = 2.182, Acc = 0.8\n",
            "\n",
            "Epoch 200\n",
            "Train: Loss = 0.0003887, Acc = 1.0\n",
            "Valid: Loss = 2.202, Acc = 0.8\n",
            "\n",
            "Epoch 210\n",
            "Train: Loss = 0.0003812, Acc = 1.0\n",
            "Valid: Loss = 1.425, Acc = 0.8\n",
            "\n",
            "Epoch 220\n",
            "Train: Loss = 0.0003682, Acc = 1.0\n",
            "Valid: Loss = 1.429, Acc = 0.8\n",
            "\n",
            "Epoch 230\n",
            "Train: Loss = 0.0003585, Acc = 1.0\n",
            "Valid: Loss = 1.59, Acc = 0.8\n",
            "\n",
            "Epoch 240\n",
            "Train: Loss = 0.0003521, Acc = 1.0\n",
            "Valid: Loss = 1.436, Acc = 0.8\n",
            "\n",
            "Epoch 250\n",
            "Train: Loss = 0.0003408, Acc = 1.0\n",
            "Valid: Loss = 1.454, Acc = 0.8\n",
            "\n",
            "Epoch 260\n",
            "Train: Loss = 0.0003335, Acc = 1.0\n",
            "Valid: Loss = 1.844, Acc = 0.8\n",
            "\n",
            "Epoch 270\n",
            "Train: Loss = 0.0003269, Acc = 1.0\n",
            "Valid: Loss = 1.456, Acc = 0.8\n",
            "\n",
            "Epoch 280\n",
            "Train: Loss = 0.0003168, Acc = 1.0\n",
            "Valid: Loss = 2.011, Acc = 0.8\n",
            "\n",
            "Epoch 290\n",
            "Train: Loss = 0.0003094, Acc = 1.0\n",
            "Valid: Loss = 1.454, Acc = 0.8\n",
            "\n",
            "Epoch 300\n",
            "Train: Loss = 0.0003025, Acc = 1.0\n",
            "Valid: Loss = 2.311, Acc = 0.8\n",
            "\n",
            "Epoch 310\n",
            "Train: Loss = 0.0002946, Acc = 1.0\n",
            "Valid: Loss = 1.469, Acc = 0.8\n",
            "\n",
            "Epoch 320\n",
            "Train: Loss = 0.0002904, Acc = 1.0\n",
            "Valid: Loss = 1.515, Acc = 0.8\n",
            "\n",
            "Epoch 330\n",
            "Train: Loss = 0.0002835, Acc = 1.0\n",
            "Valid: Loss = 1.465, Acc = 0.8\n",
            "\n",
            "Epoch 340\n",
            "Train: Loss = 0.0002889, Acc = 1.0\n",
            "Valid: Loss = 1.469, Acc = 0.8\n",
            "\n",
            "Epoch 350\n",
            "Train: Loss = 0.0002734, Acc = 1.0\n",
            "Valid: Loss = 2.257, Acc = 0.8\n",
            "\n",
            "Epoch 360\n",
            "Train: Loss = 0.0002653, Acc = 1.0\n",
            "Valid: Loss = 1.897, Acc = 0.8\n",
            "\n",
            "Epoch 370\n",
            "Train: Loss = 0.0002616, Acc = 1.0\n",
            "Valid: Loss = 1.9, Acc = 0.8\n",
            "\n",
            "Epoch 380\n",
            "Train: Loss = 0.0002546, Acc = 1.0\n",
            "Valid: Loss = 1.484, Acc = 0.8\n",
            "\n",
            "Epoch 390\n",
            "Train: Loss = 0.000252, Acc = 1.0\n",
            "Valid: Loss = 1.488, Acc = 0.8\n",
            "\n",
            "Epoch 400\n",
            "Train: Loss = 0.0002459, Acc = 1.0\n",
            "Valid: Loss = 2.344, Acc = 0.8\n",
            "\n",
            "Epoch 410\n",
            "Train: Loss = 0.0002402, Acc = 1.0\n",
            "Valid: Loss = 2.309, Acc = 0.8\n",
            "\n",
            "Epoch 420\n",
            "Train: Loss = 0.0002377, Acc = 1.0\n",
            "Valid: Loss = 2.996, Acc = 0.8\n",
            "\n",
            "Epoch 430\n",
            "Train: Loss = 0.0002331, Acc = 1.0\n",
            "Valid: Loss = 2.998, Acc = 0.8\n",
            "\n",
            "Epoch 440\n",
            "Train: Loss = 0.0002276, Acc = 1.0\n",
            "Valid: Loss = 3.008, Acc = 0.8\n",
            "\n",
            "Epoch 450\n",
            "Train: Loss = 0.0002243, Acc = 1.0\n",
            "Valid: Loss = 3.001, Acc = 0.8\n",
            "\n",
            "Epoch 460\n",
            "Train: Loss = 0.0002204, Acc = 1.0\n",
            "Valid: Loss = 3.005, Acc = 0.8\n",
            "\n",
            "Epoch 470\n",
            "Train: Loss = 0.0002154, Acc = 1.0\n",
            "Valid: Loss = 3.831, Acc = 0.8\n",
            "\n",
            "Epoch 480\n",
            "Train: Loss = 0.0002121, Acc = 1.0\n",
            "Valid: Loss = 3.176, Acc = 0.8\n",
            "\n",
            "Epoch 490\n",
            "Train: Loss = 0.0002083, Acc = 1.0\n",
            "Valid: Loss = 3.01, Acc = 0.8\n",
            "\n",
            "Epoch 500\n",
            "Train: Loss = 0.0002071, Acc = 1.0\n",
            "Valid: Loss = 3.026, Acc = 0.8\n",
            "\n",
            "Epoch 510\n",
            "Train: Loss = 0.0002014, Acc = 1.0\n",
            "Valid: Loss = 3.015, Acc = 0.8\n",
            "\n",
            "Epoch 520\n",
            "Train: Loss = 0.0001982, Acc = 1.0\n",
            "Valid: Loss = 3.187, Acc = 0.8\n",
            "\n",
            "Epoch 530\n",
            "Train: Loss = 0.0001954, Acc = 1.0\n",
            "Valid: Loss = 8.388, Acc = 0.8\n",
            "\n",
            "Epoch 540\n",
            "Train: Loss = 0.0001921, Acc = 1.0\n",
            "Valid: Loss = 3.416, Acc = 0.8\n",
            "\n",
            "Epoch 550\n",
            "Train: Loss = 0.0001893, Acc = 1.0\n",
            "Valid: Loss = 3.484, Acc = 0.8\n",
            "\n",
            "Epoch 560\n",
            "Train: Loss = 0.0001864, Acc = 1.0\n",
            "Valid: Loss = 3.037, Acc = 0.8\n",
            "\n",
            "Epoch 570\n",
            "Train: Loss = 0.0001838, Acc = 1.0\n",
            "Valid: Loss = 3.039, Acc = 0.8\n",
            "\n",
            "Epoch 580\n",
            "Train: Loss = 0.0001809, Acc = 1.0\n",
            "Valid: Loss = 3.041, Acc = 0.8\n",
            "\n",
            "Epoch 590\n",
            "Train: Loss = 0.0001788, Acc = 1.0\n",
            "Valid: Loss = 3.428, Acc = 0.8\n",
            "\n",
            "Epoch 600\n",
            "Train: Loss = 0.000175, Acc = 1.0\n",
            "Valid: Loss = 3.043, Acc = 0.8\n",
            "\n",
            "Epoch 610\n",
            "Train: Loss = 0.0001754, Acc = 1.0\n",
            "Valid: Loss = 3.044, Acc = 0.8\n",
            "\n",
            "Epoch 620\n",
            "Train: Loss = 0.0001721, Acc = 1.0\n",
            "Valid: Loss = 3.219, Acc = 0.8\n",
            "\n",
            "Epoch 630\n",
            "Train: Loss = 0.0001696, Acc = 1.0\n",
            "Valid: Loss = 3.05, Acc = 0.8\n",
            "\n",
            "Epoch 640\n",
            "Train: Loss = 0.0001653, Acc = 1.0\n",
            "Valid: Loss = 3.053, Acc = 0.8\n",
            "\n",
            "Epoch 650\n",
            "Train: Loss = 0.0001631, Acc = 1.0\n",
            "Valid: Loss = 3.052, Acc = 0.8\n",
            "\n",
            "Epoch 660\n",
            "Train: Loss = 0.000161, Acc = 1.0\n",
            "Valid: Loss = 3.054, Acc = 0.8\n",
            "\n",
            "Epoch 670\n",
            "Train: Loss = 0.0001587, Acc = 1.0\n",
            "Valid: Loss = 3.075, Acc = 0.8\n",
            "\n",
            "Epoch 680\n",
            "Train: Loss = 0.0001566, Acc = 1.0\n",
            "Valid: Loss = 3.655, Acc = 0.8\n",
            "\n",
            "Epoch 690\n",
            "Train: Loss = 0.0001552, Acc = 1.0\n",
            "Valid: Loss = 3.662, Acc = 0.8\n",
            "\n",
            "Epoch 700\n",
            "Train: Loss = 0.0001527, Acc = 1.0\n",
            "Valid: Loss = 3.062, Acc = 0.8\n",
            "\n",
            "Epoch 710\n",
            "Train: Loss = 0.0001516, Acc = 1.0\n",
            "Valid: Loss = 4.35, Acc = 0.8\n",
            "\n",
            "Epoch 720\n",
            "Train: Loss = 0.0001486, Acc = 1.0\n",
            "Valid: Loss = 3.919, Acc = 0.8\n",
            "\n",
            "Epoch 730\n",
            "Train: Loss = 0.0001477, Acc = 1.0\n",
            "Valid: Loss = 3.105, Acc = 0.8\n",
            "\n",
            "Epoch 740\n",
            "Train: Loss = 0.0001451, Acc = 1.0\n",
            "Valid: Loss = 3.67, Acc = 0.8\n",
            "\n",
            "Epoch 750\n",
            "Train: Loss = 0.0001446, Acc = 1.0\n",
            "Valid: Loss = 3.069, Acc = 0.8\n",
            "\n",
            "Epoch 760\n",
            "Train: Loss = 0.0001412, Acc = 1.0\n",
            "Valid: Loss = 3.07, Acc = 0.8\n",
            "\n",
            "Epoch 770\n",
            "Train: Loss = 0.0001396, Acc = 1.0\n",
            "Valid: Loss = 3.509, Acc = 0.8\n",
            "\n",
            "Epoch 780\n",
            "Train: Loss = 0.0001378, Acc = 1.0\n",
            "Valid: Loss = 3.55, Acc = 0.8\n",
            "\n",
            "Epoch 790\n",
            "Train: Loss = 0.0001364, Acc = 1.0\n",
            "Valid: Loss = 3.073, Acc = 0.8\n",
            "\n",
            "Epoch 800\n",
            "Train: Loss = 0.000135, Acc = 1.0\n",
            "Valid: Loss = 3.079, Acc = 0.8\n",
            "\n",
            "Epoch 810\n",
            "Train: Loss = 0.000133, Acc = 1.0\n",
            "Valid: Loss = 3.08, Acc = 0.8\n",
            "\n",
            "Epoch 820\n",
            "Train: Loss = 0.0001321, Acc = 1.0\n",
            "Valid: Loss = 3.081, Acc = 0.8\n",
            "\n",
            "Epoch 830\n",
            "Train: Loss = 0.00013, Acc = 1.0\n",
            "Valid: Loss = 3.082, Acc = 0.8\n",
            "\n",
            "Epoch 840\n",
            "Train: Loss = 0.0001287, Acc = 1.0\n",
            "Valid: Loss = 3.083, Acc = 0.8\n",
            "\n",
            "Epoch 850\n",
            "Train: Loss = 0.0001271, Acc = 1.0\n",
            "Valid: Loss = 3.084, Acc = 0.8\n",
            "\n",
            "Epoch 860\n",
            "Train: Loss = 0.0001257, Acc = 1.0\n",
            "Valid: Loss = 3.085, Acc = 0.8\n",
            "\n",
            "Epoch 870\n",
            "Train: Loss = 0.0001242, Acc = 1.0\n",
            "Valid: Loss = 3.086, Acc = 0.8\n",
            "\n",
            "Epoch 880\n",
            "Train: Loss = 0.000123, Acc = 1.0\n",
            "Valid: Loss = 3.087, Acc = 0.8\n",
            "\n",
            "Epoch 890\n",
            "Train: Loss = 0.0001237, Acc = 1.0\n",
            "Valid: Loss = 3.088, Acc = 0.8\n",
            "\n",
            "Epoch 900\n",
            "Train: Loss = 0.000121, Acc = 1.0\n",
            "Valid: Loss = 3.089, Acc = 0.8\n",
            "\n",
            "Epoch 910\n",
            "Train: Loss = 0.000124, Acc = 1.0\n",
            "Valid: Loss = 3.09, Acc = 0.8\n",
            "\n",
            "Epoch 920\n",
            "Train: Loss = 0.000119, Acc = 1.0\n",
            "Valid: Loss = 3.091, Acc = 0.8\n",
            "\n",
            "Epoch 930\n",
            "Train: Loss = 0.0001164, Acc = 1.0\n",
            "Valid: Loss = 3.092, Acc = 0.8\n",
            "\n",
            "Epoch 940\n",
            "Train: Loss = 0.0001166, Acc = 1.0\n",
            "Valid: Loss = 8.455, Acc = 0.8\n",
            "\n",
            "Epoch 950\n",
            "Train: Loss = 0.0001149, Acc = 1.0\n",
            "Valid: Loss = 3.968, Acc = 0.8\n",
            "\n",
            "Epoch 960\n",
            "Train: Loss = 0.0001128, Acc = 1.0\n",
            "Valid: Loss = 3.895, Acc = 0.8\n",
            "\n",
            "Epoch 970\n",
            "Train: Loss = 0.0001116, Acc = 1.0\n",
            "Valid: Loss = 3.721, Acc = 0.8\n",
            "\n",
            "Epoch 980\n",
            "Train: Loss = 0.0001107, Acc = 1.0\n",
            "Valid: Loss = 3.102, Acc = 0.8\n",
            "\n",
            "Epoch 990\n",
            "Train: Loss = 0.0001104, Acc = 1.0\n",
            "Valid: Loss = 3.957, Acc = 0.8\n",
            "\n"
          ]
        }
      ],
      "source": [
        "num_epochs = 1000\n",
        "\n",
        "loss_train_hist = []\n",
        "loss_valid_hist = []\n",
        "\n",
        "acc_train_hist = []\n",
        "acc_valid_hist = []\n",
        "\n",
        "for epoch in range(num_epochs):\n",
        "  loss_train = AverageMeter()\n",
        "  acc_train = BinaryAccuracy().to(device)\n",
        "  for i, (inputs, targets) in enumerate(train_loader):\n",
        "    inputs = inputs.to(device)\n",
        "    targets = targets.to(device)\n",
        "\n",
        "    outputs = model(inputs)\n",
        "\n",
        "    loss = loss_fn(outputs.squeeze(), targets)\n",
        "\n",
        "    loss.backward()\n",
        "    optimizer.step()\n",
        "    optimizer.zero_grad()\n",
        "\n",
        "    loss_train.update(loss.item())\n",
        "    acc_train(outputs.squeeze(), targets)\n",
        "\n",
        "  with torch.no_grad():\n",
        "    loss_valid = AverageMeter()\n",
        "    acc_valid = BinaryAccuracy().to(device)\n",
        "    for i, (inputs, targets) in enumerate(valid_loader):\n",
        "      inputs = inputs.to(device)\n",
        "      targets = targets.to(device)\n",
        "\n",
        "      outputs = model(inputs)\n",
        "      loss = loss_fn(outputs.squeeze(), targets)\n",
        "\n",
        "      loss_valid.update(loss.item())\n",
        "      acc_valid(outputs.squeeze(), targets)\n",
        "\n",
        "  loss_train_hist.append(loss_train.avg)\n",
        "  loss_valid_hist.append(loss_valid.avg)\n",
        "\n",
        "  acc_train_hist.append(acc_train.compute())\n",
        "  acc_valid_hist.append(acc_valid.compute())\n",
        "\n",
        "  if epoch % 10 == 0:\n",
        "    print(f'Epoch {epoch}')\n",
        "    print(f'Train: Loss = {loss_train.avg:.4}, Acc = {acc_train.compute():.4}')\n",
        "    print(f'Valid: Loss = {loss_valid.avg:.4}, Acc = {acc_valid.compute():.4}')\n",
        "    print()"
      ]
    },
    {
      "cell_type": "markdown",
      "metadata": {
        "id": "8iU-1IXyZPi9"
      },
      "source": [
        "#**Section5:Result📈**"
      ]
    },
    {
      "cell_type": "markdown",
      "metadata": {
        "id": "imBBRgCff2-d"
      },
      "source": [
        "##5-1:Plot loss and acc"
      ]
    },
    {
      "cell_type": "markdown",
      "metadata": {
        "id": "vZ4AdF2JgF66"
      },
      "source": [
        "##5-2:Count param"
      ]
    },
    {
      "cell_type": "code",
      "execution_count": 178,
      "metadata": {
        "colab": {
          "base_uri": "https://localhost:8080/"
        },
        "id": "6bPGQP7fgC6T",
        "outputId": "ba8bc7fa-adca-43a6-e33c-c3989076d5a7"
      },
      "outputs": [
        {
          "name": "stdout",
          "output_type": "stream",
          "text": [
            "Total parameters: 4641\n"
          ]
        }
      ],
      "source": [
        "total_params = 0\n",
        "for param in model.parameters():\n",
        "    total_params += param.numel()\n",
        "\n",
        "print(\"Total parameters:\", total_params)"
      ]
    },
    {
      "cell_type": "markdown",
      "metadata": {
        "id": "5ngAzD5RgaJ3"
      },
      "source": [
        "##5-3: Bias for last layer(after train)"
      ]
    },
    {
      "cell_type": "code",
      "execution_count": 179,
      "metadata": {
        "colab": {
          "base_uri": "https://localhost:8080/"
        },
        "id": "fti_b4Slgfe4",
        "outputId": "55beea26-1d5b-494b-c2d1-e1b5182057a6"
      },
      "outputs": [
        {
          "name": "stdout",
          "output_type": "stream",
          "text": [
            "Parameter containing:\n",
            "tensor([-0.0716], device='cuda:0', requires_grad=True)\n"
          ]
        }
      ],
      "source": [
        "### last layer biases\n",
        "last_layer_biases = model[-2].bias\n",
        "print(last_layer_biases)"
      ]
    },
    {
      "cell_type": "markdown",
      "metadata": {
        "id": "dcbflUptghaX"
      },
      "source": [
        "#**Section6: Save and Load Model💰**"
      ]
    },
    {
      "cell_type": "markdown",
      "metadata": {
        "id": "NWc8l8bRhPTZ"
      },
      "source": [
        "##6-1: Save"
      ]
    },
    {
      "cell_type": "code",
      "execution_count": 180,
      "metadata": {
        "id": "VkUoRt8ZhMZE"
      },
      "outputs": [],
      "source": [
        "torch.save(model, 'model.pth')"
      ]
    },
    {
      "cell_type": "markdown",
      "metadata": {
        "id": "Fc5nqE0-hR5X"
      },
      "source": [
        "##6-2: Load"
      ]
    },
    {
      "cell_type": "code",
      "execution_count": 182,
      "metadata": {
        "id": "q3Nf1aoHhUO2"
      },
      "outputs": [],
      "source": [
        "mymodel = torch.load('model.pth')"
      ]
    },
    {
      "cell_type": "markdown",
      "metadata": {
        "id": "i93J7FbrhUy_"
      },
      "source": [
        "#**Section7: Model Prediction🩺**"
      ]
    },
    {
      "cell_type": "markdown",
      "metadata": {
        "id": "N0Zxn4NEhxl0"
      },
      "source": [
        "##7-1: Use test.csv"
      ]
    },
    {
      "cell_type": "code",
      "execution_count": 185,
      "metadata": {
        "colab": {
          "base_uri": "https://localhost:8080/"
        },
        "id": "xZnmv-9jhk8L",
        "outputId": "cd20d29d-320b-4166-9ac3-090e823892a9"
      },
      "outputs": [
        {
          "data": {
            "text/plain": [
              "Sequential(\n",
              "  (0): Linear(in_features=12, out_features=32, bias=True)\n",
              "  (1): ReLU()\n",
              "  (2): Linear(in_features=32, out_features=64, bias=True)\n",
              "  (3): ReLU()\n",
              "  (4): Linear(in_features=64, out_features=32, bias=True)\n",
              "  (5): ReLU()\n",
              "  (6): Linear(in_features=32, out_features=1, bias=True)\n",
              "  (7): Sigmoid()\n",
              ")"
            ]
          },
          "execution_count": 185,
          "metadata": {},
          "output_type": "execute_result"
        }
      ],
      "source": [
        "mymodel.eval()"
      ]
    },
    {
      "cell_type": "code",
      "execution_count": 187,
      "metadata": {
        "id": "vaWs66yU1VHL"
      },
      "outputs": [],
      "source": [
        "test_data = pd.read_csv('test.csv')"
      ]
    },
    {
      "cell_type": "code",
      "execution_count": 188,
      "metadata": {
        "id": "U0MSvmIk1tSc"
      },
      "outputs": [],
      "source": [
        "inputs = torch.tensor(test_data.values).float().to(device)"
      ]
    },
    {
      "cell_type": "code",
      "execution_count": 189,
      "metadata": {
        "id": "i1YcYsG01hjY"
      },
      "outputs": [],
      "source": [
        "with torch.no_grad():\n",
        "  outputs = model(inputs)"
      ]
    },
    {
      "cell_type": "code",
      "execution_count": 190,
      "metadata": {
        "id": "AxT05SZc19_T"
      },
      "outputs": [],
      "source": [
        "predictions = (outputs > 0.5).int()"
      ]
    },
    {
      "cell_type": "markdown",
      "metadata": {
        "id": "bDczuAWzh42S"
      },
      "source": [
        "##7-2 Make predictions.csv file"
      ]
    },
    {
      "cell_type": "code",
      "execution_count": 191,
      "metadata": {
        "id": "KeEOsX0Yh4Li"
      },
      "outputs": [],
      "source": [
        "predictions_array = predictions.cpu().numpy()"
      ]
    },
    {
      "cell_type": "code",
      "execution_count": 192,
      "metadata": {
        "id": "G4OOKZiO2A22"
      },
      "outputs": [],
      "source": [
        "test_data['pred'] = predictions_array"
      ]
    },
    {
      "cell_type": "code",
      "execution_count": 193,
      "metadata": {
        "id": "brclvvtQ2EHO"
      },
      "outputs": [],
      "source": [
        "test_data.to_csv('test_with_predictions.csv', index=False)"
      ]
    }
  ],
  "metadata": {
    "accelerator": "GPU",
    "colab": {
      "collapsed_sections": [
        "fQFlVvECeZsD",
        "OsNaqujTeiGx",
        "vphwvSkRI_Yz",
        "Q6PmiPs8ywKY",
        "5qOD027He6RR",
        "5w5NN9K80w3r",
        "-NBcJXJkfgUI",
        "vS9kfN73JdVR",
        "xFbRtOqLfnh6",
        "bJ90IgLMe5HO",
        "M8dCiDkifIW6",
        "smHqYYnjfz0v",
        "mbpEEA0g1-Be",
        "4eRJfJv_EtQ8",
        "8iU-1IXyZPi9",
        "dcbflUptghaX",
        "i93J7FbrhUy_",
        "mRzfV1LjiCNC"
      ],
      "gpuType": "T4",
      "provenance": []
    },
    "kernelspec": {
      "display_name": "Python 3",
      "name": "python3"
    },
    "language_info": {
      "name": "python"
    }
  },
  "nbformat": 4,
  "nbformat_minor": 0
}
